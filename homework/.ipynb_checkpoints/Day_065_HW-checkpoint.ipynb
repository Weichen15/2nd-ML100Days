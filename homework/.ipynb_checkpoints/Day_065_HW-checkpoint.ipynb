{
 "cells": [
  {
   "cell_type": "markdown",
   "metadata": {},
   "source": [
    "# 作業\n",
    "* 選擇分類資料集(右下)-螺旋雙臂 - 交錯六群，限定特徵只能使用前兩個，隱藏層 2 層滿 (共 8 * 2 =16 個神經元)，  \n",
    "  遞迴次數只允許跑到500次，但可以自由調整 批次大小、學習速率、啟動函數、正規化選項與參數\n",
    "* 在上述限制下，挑戰看看測試誤差 (Test Loss) 最低能到多少? 請回答你的上述幾項參數與 Test Loss 數"
   ]
  },
  {
   "cell_type": "markdown",
   "metadata": {
    "collapsed": true
   },
   "source": [
    "練習5：切換批次大小\n",
    "(0.03, Tanh, None, 0, Classification)\n",
    "batch size:\n",
    "5 :0.204     10:0.222    15:0.354  \n",
    "20:0.416     25:0.453    30:0.448\n",
    "隨著batch size的上升，雖然時間降低，但test loss亦是顯著的上升。\n",
    "\n",
    "練習6：切換學習速率\n",
    "(Tanh, None, 0, Classification, batch size= 10)\n",
    "learning rate:\n",
    "0.00001:0.620   0.0001:0.482   0.001:0.475   0.003:0.471\n",
    "0.01   :0.442   0.03  :0.252   0.1  :0.026   0.3  :0.080\n",
    "1      :0.463\n",
    "當learning rate由0.01到0.03時，有大幅度的下降，到了0.1為最低點。隨著learning rate繼續上升，到了0.3已經有些許無法收斂的跡象，直到1是已經沒有辦法收斂了，所以loss又大幅度的上升\n",
    "\n",
    "練習7：切換啟動函數\n",
    "(1, None, 0, Classification, batch size= 10)\n",
    "activation:\n",
    "Relu   :0.817 （呈現放棄思考狀態）\n",
    "Tanh   :0.463\n",
    "Sigmoid:0.180 （最好的狀況）\n",
    "Linear :0.499 （呈現放棄思考狀態）\n",
    "\n",
    "練習8：切換正規劃選項與參數\n",
    "(0.3, Tanh, 0, Classification, batch size= 10)\n",
    "activation:\n",
    "None  :0.258\n",
    "L1    :0.207\n",
    "L2    :0.303\n",
    "\n",
    "若將以上最低的做組合：(0.3, Sigmoid, L1, 0, Classification, batch size= 5)\n",
    "Test Loss:0.181\n",
    "並非是最低的\n",
    "\n",
    "所以當組合為：(Learning rate = 0.3, Activation = Tanh, Regularization = None,\n",
    "Regularization rate = 0, Problem type = Classification, batch size = 10)\n",
    "有最小的Teat Loss為0.080\n"
   ]
  },
  {
   "cell_type": "markdown",
   "metadata": {
    "collapsed": true
   },
   "source": []
  },
  {
   "cell_type": "code",
   "execution_count": null,
   "metadata": {},
   "outputs": [],
   "source": []
  }
 ],
 "metadata": {
  "kernelspec": {
   "display_name": "Python 3",
   "language": "python",
   "name": "python3"
  },
  "language_info": {
   "codemirror_mode": {
    "name": "ipython",
    "version": 3
   },
   "file_extension": ".py",
   "mimetype": "text/x-python",
   "name": "python",
   "nbconvert_exporter": "python",
   "pygments_lexer": "ipython3",
   "version": "3.6.8"
  }
 },
 "nbformat": 4,
 "nbformat_minor": 2
}
